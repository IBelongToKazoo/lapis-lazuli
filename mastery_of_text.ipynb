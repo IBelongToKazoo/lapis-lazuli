{
 "cells": [
  {
   "cell_type": "markdown",
   "metadata": {},
   "source": [
    "Saving the URL as a String"
   ]
  },
  {
   "cell_type": "code",
   "execution_count": 1,
   "metadata": {},
   "outputs": [
    {
     "data": {
      "text/plain": [
       "str"
      ]
     },
     "execution_count": 1,
     "metadata": {},
     "output_type": "execute_result"
    }
   ],
   "source": [
    "import urllib.request\n",
    "\n",
    "content = urllib.request.urlopen('https://www.gutenberg.org/cache/epub/10/pg10.txt')\n",
    "\n",
    "pg10 = content.read().decode('utf-8')\n",
    "type(pg10)"
   ]
  },
  {
   "cell_type": "markdown",
   "metadata": {},
   "source": [
    "Total Number of Lines in pg10"
   ]
  },
  {
   "cell_type": "code",
   "execution_count": 2,
   "metadata": {},
   "outputs": [
    {
     "name": "stdout",
     "output_type": "stream",
     "text": [
      "99969\n"
     ]
    }
   ],
   "source": [
    "lines = len(pg10.split('\\n'))\n",
    "print(lines)"
   ]
  },
  {
   "cell_type": "markdown",
   "metadata": {},
   "source": [
    "Total Number of Words in pg10"
   ]
  },
  {
   "cell_type": "code",
   "execution_count": 3,
   "metadata": {},
   "outputs": [
    {
     "name": "stdout",
     "output_type": "stream",
     "text": [
      "667621\n"
     ]
    }
   ],
   "source": [
    "word_list = pg10.split()\n",
    "total_words = 0\n",
    "\n",
    "def alpha_word(word):\n",
    "    for char in word:\n",
    "        if not char.isalpha():\n",
    "            return False\n",
    "    return True\n",
    "\n",
    "for word in word_list:\n",
    "    if alpha_word(word):\n",
    "        total_words += 1\n",
    "\n",
    "print(total_words)"
   ]
  },
  {
   "cell_type": "markdown",
   "metadata": {},
   "source": [
    "Total Number of Times \"Apostle\" Appeared in the String"
   ]
  },
  {
   "cell_type": "code",
   "execution_count": 4,
   "metadata": {},
   "outputs": [
    {
     "name": "stdout",
     "output_type": "stream",
     "text": [
      "113\n"
     ]
    }
   ],
   "source": [
    "pg10_low = pg10.lower()\n",
    "\n",
    "appearances = pg10_low.count(\"apostle\")\n",
    "\n",
    "print(appearances)"
   ]
  },
  {
   "cell_type": "markdown",
   "metadata": {},
   "source": [
    "Most Common Word in the String"
   ]
  },
  {
   "cell_type": "code",
   "execution_count": 5,
   "metadata": {},
   "outputs": [
    {
     "name": "stdout",
     "output_type": "stream",
     "text": [
      "the\n"
     ]
    }
   ],
   "source": [
    "#dictionary\n",
    "word_appearance = {}\n",
    "\n",
    "for word in word_list:\n",
    "    if word.isalpha():\n",
    "        if word in word_appearance:\n",
    "            word_appearance[word] += 1\n",
    "        else:\n",
    "            word_appearance[word] = 1\n",
    "\n",
    "most_common_word = max(word_appearance, key=word_appearance.get)\n",
    "\n",
    "print(most_common_word)"
   ]
  }
 ],
 "metadata": {
  "kernelspec": {
   "display_name": "base",
   "language": "python",
   "name": "python3"
  },
  "language_info": {
   "codemirror_mode": {
    "name": "ipython",
    "version": 3
   },
   "file_extension": ".py",
   "mimetype": "text/x-python",
   "name": "python",
   "nbconvert_exporter": "python",
   "pygments_lexer": "ipython3",
   "version": "3.9.12"
  }
 },
 "nbformat": 4,
 "nbformat_minor": 2
}
